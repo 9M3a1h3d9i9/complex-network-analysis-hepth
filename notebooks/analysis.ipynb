{
 "cells": [
  {
   "cell_type": "markdown",
   "id": "7da95677",
   "metadata": {},
   "source": [
    "# بسم الله الرحمن الرحیم"
   ]
  },
  {
   "cell_type": "markdown",
   "id": "a7296867",
   "metadata": {},
   "source": [
    "# محمد مهدی شفیقی - پروژه نهایی درس مباحث ویژه"
   ]
  },
  {
   "cell_type": "markdown",
   "id": "0189a2b0",
   "metadata": {},
   "source": [
    "# تحلیل شبکه همکاری علمی CA-HepTh\n",
    "\n",
    "این پروژه به تحلیل ویژگی‌های ساختاری و دینامیکی شبکه هم‌نویسندگی در حوزه فیزیک انرژی بالا می‌پردازد."
   ]
  },
  {
   "cell_type": "code",
   "execution_count": 2,
   "id": "74384f79",
   "metadata": {},
   "outputs": [
    {
     "name": "stdout",
     "output_type": "stream",
     "text": [
      "گراف نهایی با 70476 گره و 226489 یال ساخته شد.\n"
     ]
    }
   ],
   "source": [
    "import sys\n",
    "sys.path.append('../src') # اضافه کردن پوشه src به مسیر پایتون\n",
    "from data_parser import build_temporal_graphs\n",
    "import networkx as nx\n",
    "import matplotlib.pyplot as plt\n",
    "import numpy as np\n",
    "import community as community_louvain\n",
    "import pandas as pd\n",
    "\n",
    "# ساخت گراف‌ها با فراخوانی تابع\n",
    "data_path = '../data/cit-HepTh-abstracts'\n",
    "temporal_graphs, G_final = build_temporal_graphs(data_path)\n",
    "\n",
    "print(f\"گراف نهایی با {G_final.number_of_nodes()} گره و {G_final.number_of_edges()} یال ساخته شد.\")"
   ]
  },
  {
   "cell_type": "markdown",
   "id": "6072b791",
   "metadata": {},
   "source": [
    "## مرحله اول: تحلیل شاخص‌های پایه\n",
    "در این بخش، شاخص‌های اصلی شبکه را هم در حالت پایا (برای کل دوره) و هم به صورت زمانی تحلیل می‌کنیم."
   ]
  },
  {
   "cell_type": "code",
   "execution_count": null,
   "id": "4d07a75c",
   "metadata": {},
   "outputs": [
    {
     "name": "stdout",
     "output_type": "stream",
     "text": [
      "Average Degree: 6.43\n",
      "Graph Density: 0.000091\n",
      "Number of connected components: 4014\n",
      "Size of largest component: 57633 nodes\n"
     ]
    }
   ],
   "source": [
    "# محاسبه شاخص ها برای گراف نهایی (G_final)\n",
    "\n",
    "# 1. Average Degree\n",
    "avg_degree = sum(dict(G_final.degree()).values()) / G_final.number_of_nodes()\n",
    "print(f\"Average Degree: {avg_degree:.2f}\")\n",
    "\n",
    "# 2. Graph Density\n",
    "density = nx.density(G_final)\n",
    "print(f\"Graph Density: {density:.6f}\")\n",
    "\n",
    "# 3. Connected Components\n",
    "# برای سادگی کار با بزرگترین مولفه همبند\n",
    "largest_cc_nodes = max(nx.connected_components(G_final), key=len)\n",
    "G_main = G_final.subgraph(largest_cc_nodes)\n",
    "print(f\"Number of connected components: {nx.number_connected_components(G_final)}\")\n",
    "print(f\"Size of largest component: {G_main.number_of_nodes()} nodes\")\n",
    "\n",
    "\n",
    "# 4. Network Diameter & Average Path Length (روی بزرگترین مولفه همبند)\n",
    "# هشدار: محاسبه قطر خیلی زمان‌بر بود.\n",
    "diameter = nx.diameter(G_main)\n",
    "print(f\"Network Diameter: {diameter}\")\n",
    "avg_path_length = nx.average_shortest_path_length(G_main)\n",
    "print(f\"Average Path Length: {avg_path_length:.2f}\")\n",
    "\n",
    "# 5. Average Clustering Coefficient\n",
    "avg_clustering = nx.average_clustering(G_final)\n",
    "print(f\"Average Clustering Coefficient: {avg_clustering:.4f}\")\n",
    "\n",
    "# 6. Centrality Measures (نمونه برای چند گره)\n",
    "# این محاسبات برای کل گراف بسیار سنگین هستند، معمولا برای گره های مهم محاسبه می شوند\n",
    "closeness = nx.closeness_centrality(G_main)\n",
    "betweenness = nx.betweenness_centrality(G_main)\n",
    "pagerank = nx.pagerank(G_final)\n",
    "hits = nx.hits(G_final)\n",
    "\n",
    "print(\"Top 5 nodes by PageRank:\")\n",
    "sorted_pagerank = sorted(pagerank.items(), key=lambda item: item[1], reverse=True)\n",
    "for i in range(5):\n",
    "    print(f\"{i+1}. {sorted_pagerank[i][0]}: {sorted_pagerank[i][1]:.6f}\")"
   ]
  },
  {
   "cell_type": "markdown",
   "id": "82e1864c",
   "metadata": {},
   "source": [
    "به این دلیل که محاسبات بعضی از ویژگی ها مثل \n",
    "\n",
    "Closeness , Diameter , PageRank\n",
    "\n",
    "بسیار طولانی شد در ورژن ، اول برای بررسی سلامت کد آنها را کامنت کردیم."
   ]
  },
  {
   "cell_type": "markdown",
   "id": "4c37d52a",
   "metadata": {},
   "source": [
    "# تحلیل زمانی (Temporal Analysis)\n"
   ]
  },
  {
   "cell_type": "markdown",
   "id": "2ab25125",
   "metadata": {},
   "source": [
    "years = sorted(temporal_graphs.keys())\n",
    "avg_degrees_time = []\n",
    "densities_time = []\n",
    "avg_clustering_time = []\n",
    "\n",
    "for year in years:\n",
    "    graph_snapshot = temporal_graphs[year]\n",
    "    if graph_snapshot.number_of_nodes() > 0:\n",
    "        avg_degrees_time.append(sum(dict(graph_snapshot.degree()).values()) / graph_snapshot.number_of_nodes())\n",
    "        densities_time.append(nx.density(graph_snapshot))\n",
    "        avg_clustering_time.append(nx.average_clustering(graph_snapshot))\n",
    "    else:\n",
    "        avg_degrees_time.append(0)\n",
    "        densities_time.append(0)\n",
    "        avg_clustering_time.append(0)\n",
    "\n",
    "# رسم نمودار تغییرات\n",
    "plt.figure(figsize=(12, 8))\n",
    "\n",
    "plt.subplot(2, 2, 1)\n",
    "plt.plot(years, avg_degrees_time, 'b-o')\n",
    "plt.title(\"Average Degree Over Time\")\n",
    "plt.xlabel(\"Year\")\n",
    "plt.ylabel(\"Average Degree\")\n",
    "\n",
    "plt.subplot(2, 2, 2)\n",
    "plt.plot(years, densities_time, 'r-o')\n",
    "plt.title(\"Density Over Time\")\n",
    "plt.xlabel(\"Year\")\n",
    "plt.ylabel(\"Density\")\n",
    "\n",
    "plt.subplot(2, 2, 3)\n",
    "plt.plot(years, avg_clustering_time, 'g-o')\n",
    "plt.title(\"Average Clustering Coefficient Over Time\")\n",
    "plt.xlabel(\"Year\")\n",
    "plt.ylabel(\"Clustering\")\n",
    "\n",
    "plt.tight_layout()\n",
    "plt.show()"
   ]
  }
 ],
 "metadata": {
  "kernelspec": {
   "display_name": "venv (3.13.3)",
   "language": "python",
   "name": "python3"
  },
  "language_info": {
   "codemirror_mode": {
    "name": "ipython",
    "version": 3
   },
   "file_extension": ".py",
   "mimetype": "text/x-python",
   "name": "python",
   "nbconvert_exporter": "python",
   "pygments_lexer": "ipython3",
   "version": "3.13.3"
  }
 },
 "nbformat": 4,
 "nbformat_minor": 5
}
