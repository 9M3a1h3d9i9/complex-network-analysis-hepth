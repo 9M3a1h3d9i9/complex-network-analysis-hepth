{
 "cells": [
  {
   "cell_type": "markdown",
   "id": "7da95677",
   "metadata": {},
   "source": [
    "# بسم الله الرحمن الرحیم"
   ]
  },
  {
   "cell_type": "markdown",
   "id": "a7296867",
   "metadata": {},
   "source": [
    "# محمد مهدی شفیقی - پروژه نهایی درس مباحث ویژه"
   ]
  },
  {
   "cell_type": "markdown",
   "id": "0189a2b0",
   "metadata": {},
   "source": [
    "# تحلیل شبکه همکاری علمی CA-HepTh\n",
    "\n",
    "این پروژه به تحلیل ویژگی‌های ساختاری و دینامیکی شبکه هم‌نویسندگی در حوزه فیزیک انرژی بالا می‌پردازد."
   ]
  },
  {
   "cell_type": "code",
   "execution_count": 5,
   "id": "74384f79",
   "metadata": {},
   "outputs": [
    {
     "name": "stdout",
     "output_type": "stream",
     "text": [
      "گراف نهایی با 70476 گره و 226489 یال ساخته شد.\n"
     ]
    }
   ],
   "source": [
    "import sys\n",
    "sys.path.append('../src') # اضافه کردن پوشه src به مسیر پایتون\n",
    "from data_parser import build_temporal_graphs\n",
    "import networkx as nx\n",
    "import matplotlib.pyplot as plt\n",
    "import numpy as np\n",
    "import community as community_louvain\n",
    "import pandas as pd\n",
    "\n",
    "# ساخت گراف‌ها با فراخوانی تابع\n",
    "data_path = '../data/cit-HepTh-abstracts'\n",
    "temporal_graphs, G_final = build_temporal_graphs(data_path)\n",
    "\n",
    "print(f\"گراف نهایی با {G_final.number_of_nodes()} گره و {G_final.number_of_edges()} یال ساخته شد.\")"
   ]
  },
  {
   "cell_type": "code",
   "execution_count": 6,
   "id": "e5519dec",
   "metadata": {},
   "outputs": [
    {
     "name": "stdout",
     "output_type": "stream",
     "text": [
      "Nodes: 70476 Edges: 226489\n",
      "Time to report sizes: 0.09166431427001953\n"
     ]
    }
   ],
   "source": [
    "import time\n",
    "t0 = time.time()\n",
    "print(\"Nodes:\", G_final.number_of_nodes(), \"Edges:\", G_final.number_of_edges())\n",
    "t1 = time.time()\n",
    "print(\"Time to report sizes:\", t1 - t0)\n"
   ]
  },
  {
   "cell_type": "markdown",
   "id": "6072b791",
   "metadata": {},
   "source": [
    "## مرحله اول: تحلیل شاخص‌های پایه\n",
    "در این بخش، شاخص‌های اصلی شبکه را هم در حالت پایا (برای کل دوره) و هم به صورت زمانی تحلیل می‌کنیم."
   ]
  },
  {
   "cell_type": "code",
   "execution_count": 8,
   "id": "4d07a75c",
   "metadata": {},
   "outputs": [
    {
     "name": "stdout",
     "output_type": "stream",
     "text": [
      "Average Degree: 6.43\n",
      "Graph Density: 0.000091\n",
      "Number of connected components: 4014\n",
      "Size of largest component: 57633 nodes\n"
     ]
    }
   ],
   "source": [
    "# محاسبه شاخص ها برای گراف نهایی (G_final)\n",
    "\n",
    "# 1. Average Degree\n",
    "avg_degree = sum(dict(G_final.degree()).values()) / G_final.number_of_nodes()\n",
    "print(f\"Average Degree: {avg_degree:.2f}\")\n",
    "\n",
    "# 2. Graph Density\n",
    "density = nx.density(G_final)\n",
    "print(f\"Graph Density: {density:.6f}\")\n",
    "\n",
    "# 3. Connected Components\n",
    "# برای سادگی کار با بزرگترین مولفه همبند\n",
    "largest_cc_nodes = max(nx.connected_components(G_final), key=len)\n",
    "G_main = G_final.subgraph(largest_cc_nodes)\n",
    "print(f\"Number of connected components: {nx.number_connected_components(G_final)}\")\n",
    "print(f\"Size of largest component: {G_main.number_of_nodes()} nodes\")\n",
    "\n",
    "\n",
    "# # 4. Network Diameter & Average Path Length (روی بزرگترین مولفه همبند)\n",
    "# # هشدار: محاسبه قطر خیلی زمان‌بر بود.\n",
    "# diameter = nx.diameter(G_main)\n",
    "# print(f\"Network Diameter: {diameter}\")\n",
    "# avg_path_length = nx.average_shortest_path_length(G_main)\n",
    "# print(f\"Average Path Length: {avg_path_length:.2f}\")\n",
    "\n",
    "# # 5. Average Clustering Coefficient\n",
    "# avg_clustering = nx.average_clustering(G_final)\n",
    "# print(f\"Average Clustering Coefficient: {avg_clustering:.4f}\")\n",
    "\n",
    "# # 6. Centrality Measures (نمونه برای چند گره)\n",
    "# # این محاسبات برای کل گراف بسیار سنگین هستند، معمولا برای گره های مهم محاسبه می شوند\n",
    "# closeness = nx.closeness_centrality(G_main)\n",
    "# betweenness = nx.betweenness_centrality(G_main)\n",
    "# pagerank = nx.pagerank(G_final)\n",
    "# hits = nx.hits(G_final)\n",
    "\n",
    "# print(\"Top 5 nodes by PageRank:\")\n",
    "# sorted_pagerank = sorted(pagerank.items(), key=lambda item: item[1], reverse=True)\n",
    "# for i in range(5):\n",
    "#     print(f\"{i+1}. {sorted_pagerank[i][0]}: {sorted_pagerank[i][1]:.6f}\")"
   ]
  },
  {
   "cell_type": "markdown",
   "id": "e49d68ba",
   "metadata": {},
   "source": [
    "# کد های بهینه اما تقریبی برای محاسبه از فایل اصلی "
   ]
  },
  {
   "cell_type": "code",
   "execution_count": 15,
   "id": "6a0e7b6a",
   "metadata": {},
   "outputs": [],
   "source": [
    "import time, random\n",
    "import pandas as pd, networkx as nx"
   ]
  },
  {
   "cell_type": "code",
   "execution_count": 16,
   "id": "98a84f25",
   "metadata": {},
   "outputs": [
    {
     "name": "stdout",
     "output_type": "stream",
     "text": [
      "Built graph: 9877 25998 time: 0.15479779243469238\n"
     ]
    },
    {
     "name": "stderr",
     "output_type": "stream",
     "text": [
      "<>:2: SyntaxWarning: invalid escape sequence '\\L'\n",
      "<>:2: SyntaxWarning: invalid escape sequence '\\L'\n",
      "C:\\Users\\MahdiCS313\\AppData\\Local\\Temp\\ipykernel_23608\\3100423193.py:2: SyntaxWarning: invalid escape sequence '\\L'\n",
      "  df = pd.read_csv('E:\\Lessons\\Term 2\\Special Topics in AI\\Project\\complex-network-analysis-hepth\\data\\ca-HepTh.txt\\CA-HepTh.txt', sep='\\t', comment='#', header=None, usecols=[0,1])\n"
     ]
    }
   ],
   "source": [
    "t0 = time.time()\n",
    "df = pd.read_csv('E:\\Lessons\\Term 2\\Special Topics in AI\\Project\\complex-network-analysis-hepth\\data\\ca-HepTh.txt\\CA-HepTh.txt', sep='\\t', comment='#', header=None, usecols=[0,1])\n",
    "G = nx.from_pandas_edgelist(df, 0, 1)\n",
    "print(\"Built graph:\", G.number_of_nodes(), G.number_of_edges(), \"time:\", time.time()-t0)"
   ]
  },
  {
   "cell_type": "markdown",
   "id": "805c8c1d",
   "metadata": {},
   "source": [
    "## محاسبات پایه "
   ]
  },
  {
   "cell_type": "code",
   "execution_count": 19,
   "id": "2d83bdda",
   "metadata": {},
   "outputs": [
    {
     "name": "stdout",
     "output_type": "stream",
     "text": [
      "avg_deg: 5.264351523742027 density: 0.000533044909248889 num_cc: 429\n",
      "G_main nodes/edges: 8638 24827\n",
      "time: 0.2673335075378418\n"
     ]
    }
   ],
   "source": [
    "import time\n",
    "t = time.time()\n",
    "avg_deg = sum(dict(G.degree()).values()) / G.number_of_nodes()\n",
    "dens = nx.density(G)\n",
    "num_cc = nx.number_connected_components(G)\n",
    "largest_cc = max(nx.connected_components(G), key=len)\n",
    "G_main = G.subgraph(largest_cc).copy()\n",
    "print(\"avg_deg:\", avg_deg, \"density:\", dens, \"num_cc:\", num_cc)\n",
    "print(\"G_main nodes/edges:\", G_main.number_of_nodes(), G_main.number_of_edges())\n",
    "print(\"time:\", time.time()-t)\n"
   ]
  },
  {
   "cell_type": "markdown",
   "id": "94728684",
   "metadata": {},
   "source": [
    "## قطرِ تقریبی و قطر مؤثر (به‌جای محاسبهٔ کاملِ nx.diameter)"
   ]
  },
  {
   "cell_type": "code",
   "execution_count": 20,
   "id": "8df9c5c7",
   "metadata": {},
   "outputs": [
    {
     "name": "stdout",
     "output_type": "stream",
     "text": [
      "approx_diameter: 16 time: 0.7118625640869141\n"
     ]
    }
   ],
   "source": [
    "import random, time\n",
    "def approx_diameter(G, k=50):\n",
    "    nodes = list(G.nodes())\n",
    "    max_e = 0\n",
    "    for _ in range(k):\n",
    "        s = random.choice(nodes)\n",
    "        lengths = nx.single_source_shortest_path_length(G, s)\n",
    "        e = max(lengths.values())\n",
    "        if e > max_e:\n",
    "            max_e = e\n",
    "    return max_e\n",
    "\n",
    "t = time.time()\n",
    "print(\"approx_diameter:\", approx_diameter(G_main, k=50), \"time:\", time.time()-t)\n"
   ]
  },
  {
   "cell_type": "markdown",
   "id": "d2241275",
   "metadata": {},
   "source": [
    "## D — PageRank: \n",
    "اگر \n",
    "\n",
    "pagerank_scipy \n",
    "\n",
    "خطا می‌دهد، از \n",
    "\n",
    "nx.pagerank"
   ]
  },
  {
   "cell_type": "code",
   "execution_count": 21,
   "id": "050283f6",
   "metadata": {},
   "outputs": [
    {
     "ename": "ModuleNotFoundError",
     "evalue": "No module named 'scipy'",
     "output_type": "error",
     "traceback": [
      "\u001b[31m---------------------------------------------------------------------------\u001b[39m",
      "\u001b[31mModuleNotFoundError\u001b[39m                       Traceback (most recent call last)",
      "\u001b[36mCell\u001b[39m\u001b[36m \u001b[39m\u001b[32mIn[21]\u001b[39m\u001b[32m, line 3\u001b[39m\n\u001b[32m      1\u001b[39m \u001b[38;5;28;01mimport\u001b[39;00m\u001b[38;5;250m \u001b[39m\u001b[34;01mtime\u001b[39;00m\n\u001b[32m      2\u001b[39m t = time.time()\n\u001b[32m----> \u001b[39m\u001b[32m3\u001b[39m pr = \u001b[43mnx\u001b[49m\u001b[43m.\u001b[49m\u001b[43mpagerank\u001b[49m\u001b[43m(\u001b[49m\u001b[43mG\u001b[49m\u001b[43m,\u001b[49m\u001b[43m \u001b[49m\u001b[43mmax_iter\u001b[49m\u001b[43m=\u001b[49m\u001b[32;43m200\u001b[39;49m\u001b[43m,\u001b[49m\u001b[43m \u001b[49m\u001b[43mtol\u001b[49m\u001b[43m=\u001b[49m\u001b[32;43m1e-6\u001b[39;49m\u001b[43m)\u001b[49m\n\u001b[32m      4\u001b[39m \u001b[38;5;28mprint\u001b[39m(\u001b[33m\"\u001b[39m\u001b[33mPageRank computed in\u001b[39m\u001b[33m\"\u001b[39m, time.time()-t)\n\u001b[32m      5\u001b[39m \u001b[38;5;66;03m# نمایش top-10\u001b[39;00m\n",
      "\u001b[36mFile \u001b[39m\u001b[32me:\\Lessons\\Term 2\\Special Topics in AI\\Project\\complex-network-analysis-hepth\\venv\\Lib\\site-packages\\networkx\\utils\\decorators.py:784\u001b[39m, in \u001b[36margmap.__call__.<locals>.func\u001b[39m\u001b[34m(_argmap__wrapper, *args, **kwargs)\u001b[39m\n\u001b[32m    783\u001b[39m \u001b[38;5;28;01mdef\u001b[39;00m\u001b[38;5;250m \u001b[39m\u001b[34mfunc\u001b[39m(*args, __wrapper=\u001b[38;5;28;01mNone\u001b[39;00m, **kwargs):\n\u001b[32m--> \u001b[39m\u001b[32m784\u001b[39m     \u001b[38;5;28;01mreturn\u001b[39;00m \u001b[43margmap\u001b[49m\u001b[43m.\u001b[49m\u001b[43m_lazy_compile\u001b[49m\u001b[43m(\u001b[49m\u001b[43m__wrapper\u001b[49m\u001b[43m)\u001b[49m\u001b[43m(\u001b[49m\u001b[43m*\u001b[49m\u001b[43margs\u001b[49m\u001b[43m,\u001b[49m\u001b[43m \u001b[49m\u001b[43m*\u001b[49m\u001b[43m*\u001b[49m\u001b[43mkwargs\u001b[49m\u001b[43m)\u001b[49m\n",
      "\u001b[36mFile \u001b[39m\u001b[32m<class 'networkx.utils.decorators.argmap'> compilation 56:3\u001b[39m, in \u001b[36margmap_pagerank_53\u001b[39m\u001b[34m(G, alpha, personalization, max_iter, tol, nstart, weight, dangling, backend, **backend_kwargs)\u001b[39m\n\u001b[32m      1\u001b[39m \u001b[38;5;28;01mimport\u001b[39;00m\u001b[38;5;250m \u001b[39m\u001b[34;01mbz2\u001b[39;00m\n\u001b[32m      2\u001b[39m \u001b[38;5;28;01mimport\u001b[39;00m\u001b[38;5;250m \u001b[39m\u001b[34;01mcollections\u001b[39;00m\n\u001b[32m----> \u001b[39m\u001b[32m3\u001b[39m \u001b[38;5;28;01mimport\u001b[39;00m\u001b[38;5;250m \u001b[39m\u001b[34;01mgzip\u001b[39;00m\n\u001b[32m      4\u001b[39m \u001b[38;5;28;01mimport\u001b[39;00m\u001b[38;5;250m \u001b[39m\u001b[34;01minspect\u001b[39;00m\n\u001b[32m      5\u001b[39m \u001b[38;5;28;01mimport\u001b[39;00m\u001b[38;5;250m \u001b[39m\u001b[34;01mitertools\u001b[39;00m\n",
      "\u001b[36mFile \u001b[39m\u001b[32me:\\Lessons\\Term 2\\Special Topics in AI\\Project\\complex-network-analysis-hepth\\venv\\Lib\\site-packages\\networkx\\utils\\backends.py:535\u001b[39m, in \u001b[36m_dispatchable._call_if_no_backends_installed\u001b[39m\u001b[34m(self, backend, *args, **kwargs)\u001b[39m\n\u001b[32m    529\u001b[39m \u001b[38;5;28;01mif\u001b[39;00m \u001b[33m\"\u001b[39m\u001b[33mnetworkx\u001b[39m\u001b[33m\"\u001b[39m \u001b[38;5;129;01mnot\u001b[39;00m \u001b[38;5;129;01min\u001b[39;00m \u001b[38;5;28mself\u001b[39m.backends:\n\u001b[32m    530\u001b[39m     \u001b[38;5;28;01mraise\u001b[39;00m \u001b[38;5;167;01mNotImplementedError\u001b[39;00m(\n\u001b[32m    531\u001b[39m         \u001b[33mf\u001b[39m\u001b[33m\"\u001b[39m\u001b[33m'\u001b[39m\u001b[38;5;132;01m{\u001b[39;00m\u001b[38;5;28mself\u001b[39m.name\u001b[38;5;132;01m}\u001b[39;00m\u001b[33m'\u001b[39m\u001b[33m is not implemented by \u001b[39m\u001b[33m'\u001b[39m\u001b[33mnetworkx\u001b[39m\u001b[33m'\u001b[39m\u001b[33m backend. \u001b[39m\u001b[33m\"\u001b[39m\n\u001b[32m    532\u001b[39m         \u001b[33m\"\u001b[39m\u001b[33mThis function is included in NetworkX as an API to dispatch to \u001b[39m\u001b[33m\"\u001b[39m\n\u001b[32m    533\u001b[39m         \u001b[33m\"\u001b[39m\u001b[33mother backends.\u001b[39m\u001b[33m\"\u001b[39m\n\u001b[32m    534\u001b[39m     )\n\u001b[32m--> \u001b[39m\u001b[32m535\u001b[39m \u001b[38;5;28;01mreturn\u001b[39;00m \u001b[38;5;28;43mself\u001b[39;49m\u001b[43m.\u001b[49m\u001b[43morig_func\u001b[49m\u001b[43m(\u001b[49m\u001b[43m*\u001b[49m\u001b[43margs\u001b[49m\u001b[43m,\u001b[49m\u001b[43m \u001b[49m\u001b[43m*\u001b[49m\u001b[43m*\u001b[49m\u001b[43mkwargs\u001b[49m\u001b[43m)\u001b[49m\n",
      "\u001b[36mFile \u001b[39m\u001b[32me:\\Lessons\\Term 2\\Special Topics in AI\\Project\\complex-network-analysis-hepth\\venv\\Lib\\site-packages\\networkx\\algorithms\\link_analysis\\pagerank_alg.py:110\u001b[39m, in \u001b[36mpagerank\u001b[39m\u001b[34m(G, alpha, personalization, max_iter, tol, nstart, weight, dangling)\u001b[39m\n\u001b[32m      8\u001b[39m \u001b[38;5;129m@nx\u001b[39m._dispatchable(edge_attrs=\u001b[33m\"\u001b[39m\u001b[33mweight\u001b[39m\u001b[33m\"\u001b[39m)\n\u001b[32m      9\u001b[39m \u001b[38;5;28;01mdef\u001b[39;00m\u001b[38;5;250m \u001b[39m\u001b[34mpagerank\u001b[39m(\n\u001b[32m     10\u001b[39m     G,\n\u001b[32m   (...)\u001b[39m\u001b[32m     17\u001b[39m     dangling=\u001b[38;5;28;01mNone\u001b[39;00m,\n\u001b[32m     18\u001b[39m ):\n\u001b[32m     19\u001b[39m \u001b[38;5;250m    \u001b[39m\u001b[33;03m\"\"\"Returns the PageRank of the nodes in the graph.\u001b[39;00m\n\u001b[32m     20\u001b[39m \n\u001b[32m     21\u001b[39m \u001b[33;03m    PageRank computes a ranking of the nodes in the graph G based on\u001b[39;00m\n\u001b[32m   (...)\u001b[39m\u001b[32m    108\u001b[39m \n\u001b[32m    109\u001b[39m \u001b[33;03m    \"\"\"\u001b[39;00m\n\u001b[32m--> \u001b[39m\u001b[32m110\u001b[39m     \u001b[38;5;28;01mreturn\u001b[39;00m \u001b[43m_pagerank_scipy\u001b[49m\u001b[43m(\u001b[49m\n\u001b[32m    111\u001b[39m \u001b[43m        \u001b[49m\u001b[43mG\u001b[49m\u001b[43m,\u001b[49m\u001b[43m \u001b[49m\u001b[43malpha\u001b[49m\u001b[43m,\u001b[49m\u001b[43m \u001b[49m\u001b[43mpersonalization\u001b[49m\u001b[43m,\u001b[49m\u001b[43m \u001b[49m\u001b[43mmax_iter\u001b[49m\u001b[43m,\u001b[49m\u001b[43m \u001b[49m\u001b[43mtol\u001b[49m\u001b[43m,\u001b[49m\u001b[43m \u001b[49m\u001b[43mnstart\u001b[49m\u001b[43m,\u001b[49m\u001b[43m \u001b[49m\u001b[43mweight\u001b[49m\u001b[43m,\u001b[49m\u001b[43m \u001b[49m\u001b[43mdangling\u001b[49m\n\u001b[32m    112\u001b[39m \u001b[43m    \u001b[49m\u001b[43m)\u001b[49m\n",
      "\u001b[36mFile \u001b[39m\u001b[32me:\\Lessons\\Term 2\\Special Topics in AI\\Project\\complex-network-analysis-hepth\\venv\\Lib\\site-packages\\networkx\\algorithms\\link_analysis\\pagerank_alg.py:453\u001b[39m, in \u001b[36m_pagerank_scipy\u001b[39m\u001b[34m(G, alpha, personalization, max_iter, tol, nstart, weight, dangling)\u001b[39m\n\u001b[32m    368\u001b[39m \u001b[38;5;250m\u001b[39m\u001b[33;03m\"\"\"Returns the PageRank of the nodes in the graph.\u001b[39;00m\n\u001b[32m    369\u001b[39m \n\u001b[32m    370\u001b[39m \u001b[33;03mPageRank computes a ranking of the nodes in the graph G based on\u001b[39;00m\n\u001b[32m   (...)\u001b[39m\u001b[32m    450\u001b[39m \u001b[33;03m   http://dbpubs.stanford.edu:8090/pub/showDoc.Fulltext?lang=en&doc=1999-66&format=pdf\u001b[39;00m\n\u001b[32m    451\u001b[39m \u001b[33;03m\"\"\"\u001b[39;00m\n\u001b[32m    452\u001b[39m \u001b[38;5;28;01mimport\u001b[39;00m\u001b[38;5;250m \u001b[39m\u001b[34;01mnumpy\u001b[39;00m\u001b[38;5;250m \u001b[39m\u001b[38;5;28;01mas\u001b[39;00m\u001b[38;5;250m \u001b[39m\u001b[34;01mnp\u001b[39;00m\n\u001b[32m--> \u001b[39m\u001b[32m453\u001b[39m \u001b[38;5;28;01mimport\u001b[39;00m\u001b[38;5;250m \u001b[39m\u001b[34;01mscipy\u001b[39;00m\u001b[38;5;250m \u001b[39m\u001b[38;5;28;01mas\u001b[39;00m\u001b[38;5;250m \u001b[39m\u001b[34;01msp\u001b[39;00m\n\u001b[32m    455\u001b[39m N = \u001b[38;5;28mlen\u001b[39m(G)\n\u001b[32m    456\u001b[39m \u001b[38;5;28;01mif\u001b[39;00m N == \u001b[32m0\u001b[39m:\n",
      "\u001b[31mModuleNotFoundError\u001b[39m: No module named 'scipy'"
     ]
    }
   ],
   "source": [
    "import time\n",
    "t = time.time()\n",
    "pr = nx.pagerank(G, max_iter=200, tol=1e-6)\n",
    "print(\"PageRank computed in\", time.time()-t)\n",
    "# نمایش top-10\n",
    "top_pr = sorted(pr.items(), key=lambda x: x[1], reverse=True)[:10]\n",
    "print(top_pr)\n"
   ]
  },
  {
   "cell_type": "code",
   "execution_count": null,
   "id": "08f07db4",
   "metadata": {},
   "outputs": [
    {
     "name": "stderr",
     "output_type": "stream",
     "text": [
      "<>:6: SyntaxWarning: invalid escape sequence '\\L'\n",
      "<>:6: SyntaxWarning: invalid escape sequence '\\L'\n",
      "C:\\Users\\MahdiCS313\\AppData\\Local\\Temp\\ipykernel_23608\\2396438365.py:6: SyntaxWarning: invalid escape sequence '\\L'\n",
      "  df = pd.read_csv('E:\\Lessons\\Term 2\\Special Topics in AI\\Project\\complex-network-analysis-hepth\\data\\ca-HepTh.txt\\CA-HepTh.txt', sep='\\t', comment='#', header=None, usecols=[0,1])\n"
     ]
    },
    {
     "name": "stdout",
     "output_type": "stream",
     "text": [
      "Built graph: 9877 25998 time: 0.5433523654937744\n",
      "avg_deg, density: 5.264351523742027 0.000533044909248889 time: 0.010277748107910156\n",
      "G_main: 8638 24827 time: 0.25826430320739746\n",
      "approx_diameter: 14 time: 0.4026186466217041\n",
      "betweenness approx computed (sampled k=100) time: 5.312189102172852\n"
     ]
    },
    {
     "ename": "AttributeError",
     "evalue": "module 'networkx' has no attribute 'pagerank_scipy'",
     "output_type": "error",
     "traceback": [
      "\u001b[31m---------------------------------------------------------------------------\u001b[39m",
      "\u001b[31mAttributeError\u001b[39m                            Traceback (most recent call last)",
      "\u001b[36mCell\u001b[39m\u001b[36m \u001b[39m\u001b[32mIn[13]\u001b[39m\u001b[32m, line 43\u001b[39m\n\u001b[32m     41\u001b[39m \u001b[38;5;66;03m# pagerank (use scipy backend if available)\u001b[39;00m\n\u001b[32m     42\u001b[39m t5 = time.time()\n\u001b[32m---> \u001b[39m\u001b[32m43\u001b[39m pagerank = \u001b[43mnx\u001b[49m\u001b[43m.\u001b[49m\u001b[43mpagerank_scipy\u001b[49m(G, max_iter=\u001b[32m200\u001b[39m, tol=\u001b[32m1e-6\u001b[39m)\n\u001b[32m     44\u001b[39m \u001b[38;5;28mprint\u001b[39m(\u001b[33m\"\u001b[39m\u001b[33mpagerank time:\u001b[39m\u001b[33m\"\u001b[39m, time.time()-t5)\n",
      "\u001b[31mAttributeError\u001b[39m: module 'networkx' has no attribute 'pagerank_scipy'"
     ]
    }
   ],
   "source": [
    "\n",
    "\n",
    "\n",
    "\n",
    "\n",
    "\n",
    "\n",
    "\n",
    "\n",
    "# approximate diameter via BFS sampling\n",
    "t3 = time.time()\n",
    "def approx_diam(G, k=30):\n",
    "    nodes = list(G.nodes())\n",
    "    max_e=0\n",
    "    for _ in range(k):\n",
    "        s = random.choice(nodes)\n",
    "        lengths = nx.single_source_shortest_path_length(G, s)\n",
    "        e = max(lengths.values())\n",
    "        if e > max_e: max_e = e\n",
    "    return max_e\n",
    "\n",
    "print(\"approx_diameter:\", approx_diam(G_main, k=30), \"time:\", time.time()-t3)\n",
    "\n",
    "# approx betweenness\n",
    "t4 = time.time()\n",
    "betw_approx = nx.betweenness_centrality(G_main, k=100, seed=42)\n",
    "print(\"betweenness approx computed (sampled k=100) time:\", time.time()-t4)\n",
    "\n",
    "# pagerank (use scipy backend if available)\n",
    "t5 = time.time()\n",
    "pagerank = nx.pagerank_scipy(G, max_iter=200, tol=1e-6)\n",
    "print(\"pagerank time:\", time.time()-t5)\n"
   ]
  },
  {
   "cell_type": "markdown",
   "id": "82e1864c",
   "metadata": {},
   "source": [
    "به این دلیل که محاسبات بعضی از ویژگی ها مثل \n",
    "\n",
    "Closeness , Diameter , PageRank\n",
    "\n",
    "بسیار طولانی شد در ورژن ، اول برای بررسی سلامت کد آنها را کامنت کردیم."
   ]
  },
  {
   "cell_type": "markdown",
   "id": "4c37d52a",
   "metadata": {},
   "source": [
    "# تحلیل زمانی (Temporal Analysis)\n"
   ]
  },
  {
   "cell_type": "markdown",
   "id": "2ab25125",
   "metadata": {},
   "source": [
    "years = sorted(temporal_graphs.keys())\n",
    "avg_degrees_time = []\n",
    "densities_time = []\n",
    "avg_clustering_time = []\n",
    "\n",
    "for year in years:\n",
    "    graph_snapshot = temporal_graphs[year]\n",
    "    if graph_snapshot.number_of_nodes() > 0:\n",
    "        avg_degrees_time.append(sum(dict(graph_snapshot.degree()).values()) / graph_snapshot.number_of_nodes())\n",
    "        densities_time.append(nx.density(graph_snapshot))\n",
    "        avg_clustering_time.append(nx.average_clustering(graph_snapshot))\n",
    "    else:\n",
    "        avg_degrees_time.append(0)\n",
    "        densities_time.append(0)\n",
    "        avg_clustering_time.append(0)\n",
    "\n",
    "# رسم نمودار تغییرات\n",
    "plt.figure(figsize=(12, 8))\n",
    "\n",
    "plt.subplot(2, 2, 1)\n",
    "plt.plot(years, avg_degrees_time, 'b-o')\n",
    "plt.title(\"Average Degree Over Time\")\n",
    "plt.xlabel(\"Year\")\n",
    "plt.ylabel(\"Average Degree\")\n",
    "\n",
    "plt.subplot(2, 2, 2)\n",
    "plt.plot(years, densities_time, 'r-o')\n",
    "plt.title(\"Density Over Time\")\n",
    "plt.xlabel(\"Year\")\n",
    "plt.ylabel(\"Density\")\n",
    "\n",
    "plt.subplot(2, 2, 3)\n",
    "plt.plot(years, avg_clustering_time, 'g-o')\n",
    "plt.title(\"Average Clustering Coefficient Over Time\")\n",
    "plt.xlabel(\"Year\")\n",
    "plt.ylabel(\"Clustering\")\n",
    "\n",
    "plt.tight_layout()\n",
    "plt.show()"
   ]
  }
 ],
 "metadata": {
  "kernelspec": {
   "display_name": "venv (3.13.3)",
   "language": "python",
   "name": "python3"
  },
  "language_info": {
   "codemirror_mode": {
    "name": "ipython",
    "version": 3
   },
   "file_extension": ".py",
   "mimetype": "text/x-python",
   "name": "python",
   "nbconvert_exporter": "python",
   "pygments_lexer": "ipython3",
   "version": "3.13.3"
  }
 },
 "nbformat": 4,
 "nbformat_minor": 5
}
