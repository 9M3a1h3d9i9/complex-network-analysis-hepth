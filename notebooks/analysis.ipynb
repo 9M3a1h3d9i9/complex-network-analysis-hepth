{
 "cells": [
  {
   "cell_type": "markdown",
   "id": "7da95677",
   "metadata": {},
   "source": [
    "# بسم الله الرحمن الرحیم"
   ]
  },
  {
   "cell_type": "markdown",
   "id": "a7296867",
   "metadata": {},
   "source": [
    "# محمد مهدی شفیقی - پروژه نهایی درس مباحث ویژه"
   ]
  },
  {
   "cell_type": "markdown",
   "id": "0189a2b0",
   "metadata": {},
   "source": [
    "# تحلیل شبکه همکاری علمی CA-HepTh\n",
    "\n",
    "این پروژه به تحلیل ویژگی‌های ساختاری و دینامیکی شبکه هم‌نویسندگی در حوزه فیزیک انرژی بالا می‌پردازد."
   ]
  },
  {
   "cell_type": "code",
   "execution_count": 5,
   "id": "74384f79",
   "metadata": {},
   "outputs": [
    {
     "name": "stdout",
     "output_type": "stream",
     "text": [
      "گراف نهایی با 70476 گره و 226489 یال ساخته شد.\n"
     ]
    }
   ],
   "source": [
    "import sys\n",
    "sys.path.append('../src') # اضافه کردن پوشه src به مسیر پایتون\n",
    "from data_parser import build_temporal_graphs\n",
    "import networkx as nx\n",
    "import matplotlib.pyplot as plt\n",
    "import numpy as np\n",
    "import community as community_louvain\n",
    "import pandas as pd\n",
    "\n",
    "# ساخت گراف‌ها با فراخوانی تابع\n",
    "data_path = '../data/cit-HepTh-abstracts'\n",
    "temporal_graphs, G_final = build_temporal_graphs(data_path)\n",
    "\n",
    "print(f\"گراف نهایی با {G_final.number_of_nodes()} گره و {G_final.number_of_edges()} یال ساخته شد.\")"
   ]
  }
 ],
 "metadata": {
  "kernelspec": {
   "display_name": "venv (3.13.3)",
   "language": "python",
   "name": "python3"
  },
  "language_info": {
   "name": "python",
   "version": "3.13.3"
  }
 },
 "nbformat": 4,
 "nbformat_minor": 5
}
