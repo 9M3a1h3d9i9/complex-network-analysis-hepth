{
 "cells": [
  {
   "cell_type": "markdown",
   "id": "7da95677",
   "metadata": {},
   "source": [
    "# بسم الله الرحمن الرحیم"
   ]
  },
  {
   "cell_type": "markdown",
   "id": "a7296867",
   "metadata": {},
   "source": [
    "# محمد مهدی شفیقی - پروژه نهایی درس مباحث ویژه"
   ]
  },
  {
   "cell_type": "markdown",
   "id": "0189a2b0",
   "metadata": {},
   "source": [
    "# تحلیل شبکه همکاری علمی CA-HepTh\n",
    "\n",
    "این پروژه به تحلیل ویژگی‌های ساختاری و دینامیکی شبکه هم‌نویسندگی در حوزه فیزیک انرژی بالا می‌پردازد."
   ]
  },
  {
   "cell_type": "code",
   "execution_count": 5,
   "id": "74384f79",
   "metadata": {},
   "outputs": [
    {
     "name": "stdout",
     "output_type": "stream",
     "text": [
      "گراف نهایی با 70476 گره و 226489 یال ساخته شد.\n"
     ]
    }
   ],
   "source": [
    "import sys\n",
    "sys.path.append('../src') # اضافه کردن پوشه src به مسیر پایتون\n",
    "from data_parser import build_temporal_graphs\n",
    "import networkx as nx\n",
    "import matplotlib.pyplot as plt\n",
    "import numpy as np\n",
    "import community as community_louvain\n",
    "import pandas as pd\n",
    "\n",
    "# ساخت گراف‌ها با فراخوانی تابع\n",
    "data_path = '../data/cit-HepTh-abstracts'\n",
    "temporal_graphs, G_final = build_temporal_graphs(data_path)\n",
    "\n",
    "print(f\"گراف نهایی با {G_final.number_of_nodes()} گره و {G_final.number_of_edges()} یال ساخته شد.\")"
   ]
  },
  {
   "cell_type": "code",
   "execution_count": 6,
   "id": "e5519dec",
   "metadata": {},
   "outputs": [
    {
     "name": "stdout",
     "output_type": "stream",
     "text": [
      "Nodes: 70476 Edges: 226489\n",
      "Time to report sizes: 0.09166431427001953\n"
     ]
    }
   ],
   "source": [
    "import time\n",
    "t0 = time.time()\n",
    "print(\"Nodes:\", G_final.number_of_nodes(), \"Edges:\", G_final.number_of_edges())\n",
    "t1 = time.time()\n",
    "print(\"Time to report sizes:\", t1 - t0)\n"
   ]
  },
  {
   "cell_type": "markdown",
   "id": "6072b791",
   "metadata": {},
   "source": [
    "## مرحله اول: تحلیل شاخص‌های پایه\n",
    "در این بخش، شاخص‌های اصلی شبکه را هم در حالت پایا (برای کل دوره) و هم به صورت زمانی تحلیل می‌کنیم."
   ]
  },
  {
   "cell_type": "code",
   "execution_count": 8,
   "id": "4d07a75c",
   "metadata": {},
   "outputs": [
    {
     "name": "stdout",
     "output_type": "stream",
     "text": [
      "Average Degree: 6.43\n",
      "Graph Density: 0.000091\n",
      "Number of connected components: 4014\n",
      "Size of largest component: 57633 nodes\n"
     ]
    }
   ],
   "source": [
    "# محاسبه شاخص ها برای گراف نهایی (G_final)\n",
    "\n",
    "# 1. Average Degree\n",
    "avg_degree = sum(dict(G_final.degree()).values()) / G_final.number_of_nodes()\n",
    "print(f\"Average Degree: {avg_degree:.2f}\")\n",
    "\n",
    "# 2. Graph Density\n",
    "density = nx.density(G_final)\n",
    "print(f\"Graph Density: {density:.6f}\")\n",
    "\n",
    "# 3. Connected Components\n",
    "# برای سادگی کار با بزرگترین مولفه همبند\n",
    "largest_cc_nodes = max(nx.connected_components(G_final), key=len)\n",
    "G_main = G_final.subgraph(largest_cc_nodes)\n",
    "print(f\"Number of connected components: {nx.number_connected_components(G_final)}\")\n",
    "print(f\"Size of largest component: {G_main.number_of_nodes()} nodes\")\n",
    "\n",
    "\n",
    "# # 4. Network Diameter & Average Path Length (روی بزرگترین مولفه همبند)\n",
    "# # هشدار: محاسبه قطر خیلی زمان‌بر بود.\n",
    "# diameter = nx.diameter(G_main)\n",
    "# print(f\"Network Diameter: {diameter}\")\n",
    "# avg_path_length = nx.average_shortest_path_length(G_main)\n",
    "# print(f\"Average Path Length: {avg_path_length:.2f}\")\n",
    "\n",
    "# # 5. Average Clustering Coefficient\n",
    "# avg_clustering = nx.average_clustering(G_final)\n",
    "# print(f\"Average Clustering Coefficient: {avg_clustering:.4f}\")\n",
    "\n",
    "# # 6. Centrality Measures (نمونه برای چند گره)\n",
    "# # این محاسبات برای کل گراف بسیار سنگین هستند، معمولا برای گره های مهم محاسبه می شوند\n",
    "# closeness = nx.closeness_centrality(G_main)\n",
    "# betweenness = nx.betweenness_centrality(G_main)\n",
    "# pagerank = nx.pagerank(G_final)\n",
    "# hits = nx.hits(G_final)\n",
    "\n",
    "# print(\"Top 5 nodes by PageRank:\")\n",
    "# sorted_pagerank = sorted(pagerank.items(), key=lambda item: item[1], reverse=True)\n",
    "# for i in range(5):\n",
    "#     print(f\"{i+1}. {sorted_pagerank[i][0]}: {sorted_pagerank[i][1]:.6f}\")"
   ]
  },
  {
   "cell_type": "markdown",
   "id": "e49d68ba",
   "metadata": {},
   "source": [
    "# کد های بهینه اما تقریبی برای محاسبه از فایل اصلی "
   ]
  },
  {
   "cell_type": "code",
   "execution_count": 9,
   "id": "08f07db4",
   "metadata": {},
   "outputs": [
    {
     "ename": "FileNotFoundError",
     "evalue": "[Errno 2] No such file or directory: 'data/CA-HepTh.txt'",
     "output_type": "error",
     "traceback": [
      "\u001b[31m---------------------------------------------------------------------------\u001b[39m",
      "\u001b[31mFileNotFoundError\u001b[39m                         Traceback (most recent call last)",
      "\u001b[36mCell\u001b[39m\u001b[36m \u001b[39m\u001b[32mIn[9]\u001b[39m\u001b[32m, line 6\u001b[39m\n\u001b[32m      2\u001b[39m \u001b[38;5;28;01mimport\u001b[39;00m\u001b[38;5;250m \u001b[39m\u001b[34;01mpandas\u001b[39;00m\u001b[38;5;250m \u001b[39m\u001b[38;5;28;01mas\u001b[39;00m\u001b[38;5;250m \u001b[39m\u001b[34;01mpd\u001b[39;00m,\u001b[38;5;250m \u001b[39m\u001b[34;01mnetworkx\u001b[39;00m\u001b[38;5;250m \u001b[39m\u001b[38;5;28;01mas\u001b[39;00m\u001b[38;5;250m \u001b[39m\u001b[34;01mnx\u001b[39;00m\n\u001b[32m      5\u001b[39m t0 = time.time()\n\u001b[32m----> \u001b[39m\u001b[32m6\u001b[39m df = \u001b[43mpd\u001b[49m\u001b[43m.\u001b[49m\u001b[43mread_csv\u001b[49m\u001b[43m(\u001b[49m\u001b[33;43m'\u001b[39;49m\u001b[33;43mdata/CA-HepTh.txt\u001b[39;49m\u001b[33;43m'\u001b[39;49m\u001b[43m,\u001b[49m\u001b[43m \u001b[49m\u001b[43msep\u001b[49m\u001b[43m=\u001b[49m\u001b[33;43m'\u001b[39;49m\u001b[38;5;130;43;01m\\t\u001b[39;49;00m\u001b[33;43m'\u001b[39;49m\u001b[43m,\u001b[49m\u001b[43m \u001b[49m\u001b[43mcomment\u001b[49m\u001b[43m=\u001b[49m\u001b[33;43m'\u001b[39;49m\u001b[33;43m#\u001b[39;49m\u001b[33;43m'\u001b[39;49m\u001b[43m,\u001b[49m\u001b[43m \u001b[49m\u001b[43mheader\u001b[49m\u001b[43m=\u001b[49m\u001b[38;5;28;43;01mNone\u001b[39;49;00m\u001b[43m,\u001b[49m\u001b[43m \u001b[49m\u001b[43musecols\u001b[49m\u001b[43m=\u001b[49m\u001b[43m[\u001b[49m\u001b[32;43m0\u001b[39;49m\u001b[43m,\u001b[49m\u001b[32;43m1\u001b[39;49m\u001b[43m]\u001b[49m\u001b[43m)\u001b[49m\n\u001b[32m      7\u001b[39m G = nx.from_pandas_edgelist(df, \u001b[32m0\u001b[39m, \u001b[32m1\u001b[39m)\n\u001b[32m      8\u001b[39m \u001b[38;5;28mprint\u001b[39m(\u001b[33m\"\u001b[39m\u001b[33mBuilt graph:\u001b[39m\u001b[33m\"\u001b[39m, G.number_of_nodes(), G.number_of_edges(), \u001b[33m\"\u001b[39m\u001b[33mtime:\u001b[39m\u001b[33m\"\u001b[39m, time.time()-t0)\n",
      "\u001b[36mFile \u001b[39m\u001b[32me:\\Lessons\\Term 2\\Special Topics in AI\\Project\\complex-network-analysis-hepth\\venv\\Lib\\site-packages\\pandas\\io\\parsers\\readers.py:1026\u001b[39m, in \u001b[36mread_csv\u001b[39m\u001b[34m(filepath_or_buffer, sep, delimiter, header, names, index_col, usecols, dtype, engine, converters, true_values, false_values, skipinitialspace, skiprows, skipfooter, nrows, na_values, keep_default_na, na_filter, verbose, skip_blank_lines, parse_dates, infer_datetime_format, keep_date_col, date_parser, date_format, dayfirst, cache_dates, iterator, chunksize, compression, thousands, decimal, lineterminator, quotechar, quoting, doublequote, escapechar, comment, encoding, encoding_errors, dialect, on_bad_lines, delim_whitespace, low_memory, memory_map, float_precision, storage_options, dtype_backend)\u001b[39m\n\u001b[32m   1013\u001b[39m kwds_defaults = _refine_defaults_read(\n\u001b[32m   1014\u001b[39m     dialect,\n\u001b[32m   1015\u001b[39m     delimiter,\n\u001b[32m   (...)\u001b[39m\u001b[32m   1022\u001b[39m     dtype_backend=dtype_backend,\n\u001b[32m   1023\u001b[39m )\n\u001b[32m   1024\u001b[39m kwds.update(kwds_defaults)\n\u001b[32m-> \u001b[39m\u001b[32m1026\u001b[39m \u001b[38;5;28;01mreturn\u001b[39;00m \u001b[43m_read\u001b[49m\u001b[43m(\u001b[49m\u001b[43mfilepath_or_buffer\u001b[49m\u001b[43m,\u001b[49m\u001b[43m \u001b[49m\u001b[43mkwds\u001b[49m\u001b[43m)\u001b[49m\n",
      "\u001b[36mFile \u001b[39m\u001b[32me:\\Lessons\\Term 2\\Special Topics in AI\\Project\\complex-network-analysis-hepth\\venv\\Lib\\site-packages\\pandas\\io\\parsers\\readers.py:620\u001b[39m, in \u001b[36m_read\u001b[39m\u001b[34m(filepath_or_buffer, kwds)\u001b[39m\n\u001b[32m    617\u001b[39m _validate_names(kwds.get(\u001b[33m\"\u001b[39m\u001b[33mnames\u001b[39m\u001b[33m\"\u001b[39m, \u001b[38;5;28;01mNone\u001b[39;00m))\n\u001b[32m    619\u001b[39m \u001b[38;5;66;03m# Create the parser.\u001b[39;00m\n\u001b[32m--> \u001b[39m\u001b[32m620\u001b[39m parser = \u001b[43mTextFileReader\u001b[49m\u001b[43m(\u001b[49m\u001b[43mfilepath_or_buffer\u001b[49m\u001b[43m,\u001b[49m\u001b[43m \u001b[49m\u001b[43m*\u001b[49m\u001b[43m*\u001b[49m\u001b[43mkwds\u001b[49m\u001b[43m)\u001b[49m\n\u001b[32m    622\u001b[39m \u001b[38;5;28;01mif\u001b[39;00m chunksize \u001b[38;5;129;01mor\u001b[39;00m iterator:\n\u001b[32m    623\u001b[39m     \u001b[38;5;28;01mreturn\u001b[39;00m parser\n",
      "\u001b[36mFile \u001b[39m\u001b[32me:\\Lessons\\Term 2\\Special Topics in AI\\Project\\complex-network-analysis-hepth\\venv\\Lib\\site-packages\\pandas\\io\\parsers\\readers.py:1620\u001b[39m, in \u001b[36mTextFileReader.__init__\u001b[39m\u001b[34m(self, f, engine, **kwds)\u001b[39m\n\u001b[32m   1617\u001b[39m     \u001b[38;5;28mself\u001b[39m.options[\u001b[33m\"\u001b[39m\u001b[33mhas_index_names\u001b[39m\u001b[33m\"\u001b[39m] = kwds[\u001b[33m\"\u001b[39m\u001b[33mhas_index_names\u001b[39m\u001b[33m\"\u001b[39m]\n\u001b[32m   1619\u001b[39m \u001b[38;5;28mself\u001b[39m.handles: IOHandles | \u001b[38;5;28;01mNone\u001b[39;00m = \u001b[38;5;28;01mNone\u001b[39;00m\n\u001b[32m-> \u001b[39m\u001b[32m1620\u001b[39m \u001b[38;5;28mself\u001b[39m._engine = \u001b[38;5;28;43mself\u001b[39;49m\u001b[43m.\u001b[49m\u001b[43m_make_engine\u001b[49m\u001b[43m(\u001b[49m\u001b[43mf\u001b[49m\u001b[43m,\u001b[49m\u001b[43m \u001b[49m\u001b[38;5;28;43mself\u001b[39;49m\u001b[43m.\u001b[49m\u001b[43mengine\u001b[49m\u001b[43m)\u001b[49m\n",
      "\u001b[36mFile \u001b[39m\u001b[32me:\\Lessons\\Term 2\\Special Topics in AI\\Project\\complex-network-analysis-hepth\\venv\\Lib\\site-packages\\pandas\\io\\parsers\\readers.py:1880\u001b[39m, in \u001b[36mTextFileReader._make_engine\u001b[39m\u001b[34m(self, f, engine)\u001b[39m\n\u001b[32m   1878\u001b[39m     \u001b[38;5;28;01mif\u001b[39;00m \u001b[33m\"\u001b[39m\u001b[33mb\u001b[39m\u001b[33m\"\u001b[39m \u001b[38;5;129;01mnot\u001b[39;00m \u001b[38;5;129;01min\u001b[39;00m mode:\n\u001b[32m   1879\u001b[39m         mode += \u001b[33m\"\u001b[39m\u001b[33mb\u001b[39m\u001b[33m\"\u001b[39m\n\u001b[32m-> \u001b[39m\u001b[32m1880\u001b[39m \u001b[38;5;28mself\u001b[39m.handles = \u001b[43mget_handle\u001b[49m\u001b[43m(\u001b[49m\n\u001b[32m   1881\u001b[39m \u001b[43m    \u001b[49m\u001b[43mf\u001b[49m\u001b[43m,\u001b[49m\n\u001b[32m   1882\u001b[39m \u001b[43m    \u001b[49m\u001b[43mmode\u001b[49m\u001b[43m,\u001b[49m\n\u001b[32m   1883\u001b[39m \u001b[43m    \u001b[49m\u001b[43mencoding\u001b[49m\u001b[43m=\u001b[49m\u001b[38;5;28;43mself\u001b[39;49m\u001b[43m.\u001b[49m\u001b[43moptions\u001b[49m\u001b[43m.\u001b[49m\u001b[43mget\u001b[49m\u001b[43m(\u001b[49m\u001b[33;43m\"\u001b[39;49m\u001b[33;43mencoding\u001b[39;49m\u001b[33;43m\"\u001b[39;49m\u001b[43m,\u001b[49m\u001b[43m \u001b[49m\u001b[38;5;28;43;01mNone\u001b[39;49;00m\u001b[43m)\u001b[49m\u001b[43m,\u001b[49m\n\u001b[32m   1884\u001b[39m \u001b[43m    \u001b[49m\u001b[43mcompression\u001b[49m\u001b[43m=\u001b[49m\u001b[38;5;28;43mself\u001b[39;49m\u001b[43m.\u001b[49m\u001b[43moptions\u001b[49m\u001b[43m.\u001b[49m\u001b[43mget\u001b[49m\u001b[43m(\u001b[49m\u001b[33;43m\"\u001b[39;49m\u001b[33;43mcompression\u001b[39;49m\u001b[33;43m\"\u001b[39;49m\u001b[43m,\u001b[49m\u001b[43m \u001b[49m\u001b[38;5;28;43;01mNone\u001b[39;49;00m\u001b[43m)\u001b[49m\u001b[43m,\u001b[49m\n\u001b[32m   1885\u001b[39m \u001b[43m    \u001b[49m\u001b[43mmemory_map\u001b[49m\u001b[43m=\u001b[49m\u001b[38;5;28;43mself\u001b[39;49m\u001b[43m.\u001b[49m\u001b[43moptions\u001b[49m\u001b[43m.\u001b[49m\u001b[43mget\u001b[49m\u001b[43m(\u001b[49m\u001b[33;43m\"\u001b[39;49m\u001b[33;43mmemory_map\u001b[39;49m\u001b[33;43m\"\u001b[39;49m\u001b[43m,\u001b[49m\u001b[43m \u001b[49m\u001b[38;5;28;43;01mFalse\u001b[39;49;00m\u001b[43m)\u001b[49m\u001b[43m,\u001b[49m\n\u001b[32m   1886\u001b[39m \u001b[43m    \u001b[49m\u001b[43mis_text\u001b[49m\u001b[43m=\u001b[49m\u001b[43mis_text\u001b[49m\u001b[43m,\u001b[49m\n\u001b[32m   1887\u001b[39m \u001b[43m    \u001b[49m\u001b[43merrors\u001b[49m\u001b[43m=\u001b[49m\u001b[38;5;28;43mself\u001b[39;49m\u001b[43m.\u001b[49m\u001b[43moptions\u001b[49m\u001b[43m.\u001b[49m\u001b[43mget\u001b[49m\u001b[43m(\u001b[49m\u001b[33;43m\"\u001b[39;49m\u001b[33;43mencoding_errors\u001b[39;49m\u001b[33;43m\"\u001b[39;49m\u001b[43m,\u001b[49m\u001b[43m \u001b[49m\u001b[33;43m\"\u001b[39;49m\u001b[33;43mstrict\u001b[39;49m\u001b[33;43m\"\u001b[39;49m\u001b[43m)\u001b[49m\u001b[43m,\u001b[49m\n\u001b[32m   1888\u001b[39m \u001b[43m    \u001b[49m\u001b[43mstorage_options\u001b[49m\u001b[43m=\u001b[49m\u001b[38;5;28;43mself\u001b[39;49m\u001b[43m.\u001b[49m\u001b[43moptions\u001b[49m\u001b[43m.\u001b[49m\u001b[43mget\u001b[49m\u001b[43m(\u001b[49m\u001b[33;43m\"\u001b[39;49m\u001b[33;43mstorage_options\u001b[39;49m\u001b[33;43m\"\u001b[39;49m\u001b[43m,\u001b[49m\u001b[43m \u001b[49m\u001b[38;5;28;43;01mNone\u001b[39;49;00m\u001b[43m)\u001b[49m\u001b[43m,\u001b[49m\n\u001b[32m   1889\u001b[39m \u001b[43m\u001b[49m\u001b[43m)\u001b[49m\n\u001b[32m   1890\u001b[39m \u001b[38;5;28;01massert\u001b[39;00m \u001b[38;5;28mself\u001b[39m.handles \u001b[38;5;129;01mis\u001b[39;00m \u001b[38;5;129;01mnot\u001b[39;00m \u001b[38;5;28;01mNone\u001b[39;00m\n\u001b[32m   1891\u001b[39m f = \u001b[38;5;28mself\u001b[39m.handles.handle\n",
      "\u001b[36mFile \u001b[39m\u001b[32me:\\Lessons\\Term 2\\Special Topics in AI\\Project\\complex-network-analysis-hepth\\venv\\Lib\\site-packages\\pandas\\io\\common.py:873\u001b[39m, in \u001b[36mget_handle\u001b[39m\u001b[34m(path_or_buf, mode, encoding, compression, memory_map, is_text, errors, storage_options)\u001b[39m\n\u001b[32m    868\u001b[39m \u001b[38;5;28;01melif\u001b[39;00m \u001b[38;5;28misinstance\u001b[39m(handle, \u001b[38;5;28mstr\u001b[39m):\n\u001b[32m    869\u001b[39m     \u001b[38;5;66;03m# Check whether the filename is to be opened in binary mode.\u001b[39;00m\n\u001b[32m    870\u001b[39m     \u001b[38;5;66;03m# Binary mode does not support 'encoding' and 'newline'.\u001b[39;00m\n\u001b[32m    871\u001b[39m     \u001b[38;5;28;01mif\u001b[39;00m ioargs.encoding \u001b[38;5;129;01mand\u001b[39;00m \u001b[33m\"\u001b[39m\u001b[33mb\u001b[39m\u001b[33m\"\u001b[39m \u001b[38;5;129;01mnot\u001b[39;00m \u001b[38;5;129;01min\u001b[39;00m ioargs.mode:\n\u001b[32m    872\u001b[39m         \u001b[38;5;66;03m# Encoding\u001b[39;00m\n\u001b[32m--> \u001b[39m\u001b[32m873\u001b[39m         handle = \u001b[38;5;28;43mopen\u001b[39;49m\u001b[43m(\u001b[49m\n\u001b[32m    874\u001b[39m \u001b[43m            \u001b[49m\u001b[43mhandle\u001b[49m\u001b[43m,\u001b[49m\n\u001b[32m    875\u001b[39m \u001b[43m            \u001b[49m\u001b[43mioargs\u001b[49m\u001b[43m.\u001b[49m\u001b[43mmode\u001b[49m\u001b[43m,\u001b[49m\n\u001b[32m    876\u001b[39m \u001b[43m            \u001b[49m\u001b[43mencoding\u001b[49m\u001b[43m=\u001b[49m\u001b[43mioargs\u001b[49m\u001b[43m.\u001b[49m\u001b[43mencoding\u001b[49m\u001b[43m,\u001b[49m\n\u001b[32m    877\u001b[39m \u001b[43m            \u001b[49m\u001b[43merrors\u001b[49m\u001b[43m=\u001b[49m\u001b[43merrors\u001b[49m\u001b[43m,\u001b[49m\n\u001b[32m    878\u001b[39m \u001b[43m            \u001b[49m\u001b[43mnewline\u001b[49m\u001b[43m=\u001b[49m\u001b[33;43m\"\u001b[39;49m\u001b[33;43m\"\u001b[39;49m\u001b[43m,\u001b[49m\n\u001b[32m    879\u001b[39m \u001b[43m        \u001b[49m\u001b[43m)\u001b[49m\n\u001b[32m    880\u001b[39m     \u001b[38;5;28;01melse\u001b[39;00m:\n\u001b[32m    881\u001b[39m         \u001b[38;5;66;03m# Binary mode\u001b[39;00m\n\u001b[32m    882\u001b[39m         handle = \u001b[38;5;28mopen\u001b[39m(handle, ioargs.mode)\n",
      "\u001b[31mFileNotFoundError\u001b[39m: [Errno 2] No such file or directory: 'data/CA-HepTh.txt'"
     ]
    }
   ],
   "source": [
    "import time, random\n",
    "import pandas as pd, networkx as nx\n",
    "\n",
    "\n",
    "t0 = time.time()\n",
    "df = pd.read_csv('data/CA-HepTh.txt', sep='\\t', comment='#', header=None, usecols=[0,1])\n",
    "G = nx.from_pandas_edgelist(df, 0, 1)\n",
    "print(\"Built graph:\", G.number_of_nodes(), G.number_of_edges(), \"time:\", time.time()-t0)\n",
    "\n",
    "# basic stats\n",
    "t1 = time.time()\n",
    "avg_deg = sum(dict(G.degree()).values())/G.number_of_nodes()\n",
    "dens = nx.density(G)\n",
    "print(\"avg_deg, density:\", avg_deg, dens, \"time:\", time.time()-t1)\n",
    "\n",
    "# largest component\n",
    "t2 = time.time()\n",
    "largest_cc = max(nx.connected_components(G), key=len)\n",
    "G_main = G.subgraph(largest_cc).copy()\n",
    "print(\"G_main:\", G_main.number_of_nodes(), G_main.number_of_edges(), \"time:\", time.time()-t2)\n",
    "\n",
    "# approximate diameter via BFS sampling\n",
    "t3 = time.time()\n",
    "def approx_diam(G, k=30):\n",
    "    nodes = list(G.nodes())\n",
    "    max_e=0\n",
    "    for _ in range(k):\n",
    "        s = random.choice(nodes)\n",
    "        lengths = nx.single_source_shortest_path_length(G, s)\n",
    "        e = max(lengths.values())\n",
    "        if e > max_e: max_e = e\n",
    "    return max_e\n",
    "\n",
    "print(\"approx_diameter:\", approx_diam(G_main, k=30), \"time:\", time.time()-t3)\n",
    "\n",
    "# approx betweenness\n",
    "t4 = time.time()\n",
    "betw_approx = nx.betweenness_centrality(G_main, k=100, seed=42)\n",
    "print(\"betweenness approx computed (sampled k=100) time:\", time.time()-t4)\n",
    "\n",
    "# pagerank (use scipy backend if available)\n",
    "t5 = time.time()\n",
    "pagerank = nx.pagerank_scipy(G, max_iter=200, tol=1e-6)\n",
    "print(\"pagerank time:\", time.time()-t5)\n"
   ]
  },
  {
   "cell_type": "markdown",
   "id": "82e1864c",
   "metadata": {},
   "source": [
    "به این دلیل که محاسبات بعضی از ویژگی ها مثل \n",
    "\n",
    "Closeness , Diameter , PageRank\n",
    "\n",
    "بسیار طولانی شد در ورژن ، اول برای بررسی سلامت کد آنها را کامنت کردیم."
   ]
  },
  {
   "cell_type": "markdown",
   "id": "4c37d52a",
   "metadata": {},
   "source": [
    "# تحلیل زمانی (Temporal Analysis)\n"
   ]
  },
  {
   "cell_type": "markdown",
   "id": "2ab25125",
   "metadata": {},
   "source": [
    "years = sorted(temporal_graphs.keys())\n",
    "avg_degrees_time = []\n",
    "densities_time = []\n",
    "avg_clustering_time = []\n",
    "\n",
    "for year in years:\n",
    "    graph_snapshot = temporal_graphs[year]\n",
    "    if graph_snapshot.number_of_nodes() > 0:\n",
    "        avg_degrees_time.append(sum(dict(graph_snapshot.degree()).values()) / graph_snapshot.number_of_nodes())\n",
    "        densities_time.append(nx.density(graph_snapshot))\n",
    "        avg_clustering_time.append(nx.average_clustering(graph_snapshot))\n",
    "    else:\n",
    "        avg_degrees_time.append(0)\n",
    "        densities_time.append(0)\n",
    "        avg_clustering_time.append(0)\n",
    "\n",
    "# رسم نمودار تغییرات\n",
    "plt.figure(figsize=(12, 8))\n",
    "\n",
    "plt.subplot(2, 2, 1)\n",
    "plt.plot(years, avg_degrees_time, 'b-o')\n",
    "plt.title(\"Average Degree Over Time\")\n",
    "plt.xlabel(\"Year\")\n",
    "plt.ylabel(\"Average Degree\")\n",
    "\n",
    "plt.subplot(2, 2, 2)\n",
    "plt.plot(years, densities_time, 'r-o')\n",
    "plt.title(\"Density Over Time\")\n",
    "plt.xlabel(\"Year\")\n",
    "plt.ylabel(\"Density\")\n",
    "\n",
    "plt.subplot(2, 2, 3)\n",
    "plt.plot(years, avg_clustering_time, 'g-o')\n",
    "plt.title(\"Average Clustering Coefficient Over Time\")\n",
    "plt.xlabel(\"Year\")\n",
    "plt.ylabel(\"Clustering\")\n",
    "\n",
    "plt.tight_layout()\n",
    "plt.show()"
   ]
  }
 ],
 "metadata": {
  "kernelspec": {
   "display_name": "venv (3.13.3)",
   "language": "python",
   "name": "python3"
  },
  "language_info": {
   "codemirror_mode": {
    "name": "ipython",
    "version": 3
   },
   "file_extension": ".py",
   "mimetype": "text/x-python",
   "name": "python",
   "nbconvert_exporter": "python",
   "pygments_lexer": "ipython3",
   "version": "3.13.3"
  }
 },
 "nbformat": 4,
 "nbformat_minor": 5
}
